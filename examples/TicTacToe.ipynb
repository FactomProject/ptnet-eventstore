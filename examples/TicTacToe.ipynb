{
 "cells": [
  {
   "cell_type": "code",
   "execution_count": 1,
   "metadata": {},
   "outputs": [],
   "source": [
    "import (\n",
    "\t\"encoding/json\"\n",
    "    . \"github.com/FactomProject/ptnet-eventstore/contract\"\n",
    "\t\"github.com/FactomProject/ptnet-eventstore/finite\"\n",
    "\t. \"github.com/FactomProject/ptnet-eventstore/identity\"\n",
    "\t. \"github.com/FactomProject/ptnet-eventstore/ptnet\"\n",
    "\t\"github.com/FactomProject/ptnet-eventstore/x\"\n",
    ")"
   ]
  },
  {
   "cell_type": "code",
   "execution_count": 2,
   "metadata": {},
   "outputs": [],
   "source": [
    "// the state machine definition composes the rules of the contract\n",
    "// machine must be designed to always end in a halting state\n",
    "// this protocol requires the machine to be halted before tokens are released\n",
    "//\n",
    "// NOTE:\n",
    "// this type of state machine classified as a https://en.wikipedia.org/wiki/Vector_addition_system\n",
    "// and can also be represented graphically as a https://en.wikipedia.org/wiki/Petri_net\n",
    "m := Machine{\n",
    "    // define the inital state - a nice convention follow\n",
    "    // is to set each variable to the max possible value\n",
    "    // that can be achieved during valid contract execution\n",
    "    // in this contract no value ever exceeds 1\n",
    "\t//                   00 01 02 10 11 12 20 21 22 O  X $O $X $DEP\n",
    "\tInitial: StateVector{1, 1, 1, 1, 1, 1, 1, 1, 1, 1, 1, 1, 1, 1},\n",
    "\n",
    "\tTransitions: map[string]Transition{\n",
    "        // each transition defines its effect \n",
    "        // on every offset 'variable' declared in the state vector\n",
    "        //\n",
    "        // NOTE: this is mathematical vector addition at work\n",
    "        // each vector is 'executed' by adding it to the preceding state\n",
    "\t\t//                00 01 02 10 11 12 20 21 22  O  X $O $X $DEP\n",
    "        // by convention a contract must have a BEGIN/\"EXEC\" transaction\n",
    "        // this action is executed when the contract is first offered\n",
    "\t\tBEGIN: Transition{0, 0, 0, 0, 0, 0, 0, 0, 0, -1, 0, -1, -1, -1},\n",
    "        // moves for player X\n",
    "\t\t\"X00\": Transition{-1, 0, 0, 0, 0, 0, 0, 0, 0, 1, -1, 0, 0, 0},\n",
    "\t\t\"X01\": Transition{0, -1, 0, 0, 0, 0, 0, 0, 0, 1, -1, 0, 0, 0},\n",
    "\t\t\"X02\": Transition{0, 0, -1, 0, 0, 0, 0, 0, 0, 1, -1, 0, 0, 0},\n",
    "\t\t\"X10\": Transition{0, 0, 0, -1, 0, 0, 0, 0, 0, 1, -1, 0, 0, 0},\n",
    "\t\t\"X11\": Transition{0, 0, 0, 0, -1, 0, 0, 0, 0, 1, -1, 0, 0, 0},\n",
    "\t\t\"X12\": Transition{0, 0, 0, 0, 0, -1, 0, 0, 0, 1, -1, 0, 0, 0},\n",
    "\t\t\"X20\": Transition{0, 0, 0, 0, 0, 0, -1, 0, 0, 1, -1, 0, 0, 0},\n",
    "\t\t\"X21\": Transition{0, 0, 0, 0, 0, 0, 0, -1, 0, 1, -1, 0, 0, 0},\n",
    "\t\t\"X22\": Transition{0, 0, 0, 0, 0, 0, 0, 0, -1, 1, -1, 0, 0, 0},\n",
    "        // moves for player O\n",
    "\t\t\"O00\": Transition{-1, 0, 0, 0, 0, 0, 0, 0, 0, -1, 1, 0, 0, 0},\n",
    "\t\t\"O01\": Transition{0, -1, 0, 0, 0, 0, 0, 0, 0, -1, 1, 0, 0, 0},\n",
    "\t\t\"O02\": Transition{0, 0, -1, 0, 0, 0, 0, 0, 0, -1, 1, 0, 0, 0},\n",
    "\t\t\"O10\": Transition{0, 0, 0, -1, 0, 0, 0, 0, 0, -1, 1, 0, 0, 0},\n",
    "\t\t\"O11\": Transition{0, 0, 0, 0, -1, 0, 0, 0, 0, -1, 1, 0, 0, 0},\n",
    "\t\t\"O12\": Transition{0, 0, 0, 0, 0, -1, 0, 0, 0, -1, 1, 0, 0, 0},\n",
    "\t\t\"O20\": Transition{0, 0, 0, 0, 0, 0, -1, 0, 0, -1, 1, 0, 0, 0},\n",
    "\t\t\"O21\": Transition{0, 0, 0, 0, 0, 0, 0, -1, 0, -1, 1, 0, 0, 0},\n",
    "\t\t\"O22\": Transition{0, 0, 0, 0, 0, 0, 0, 0, -1, -1, 1, 0, 0, 0},\n",
    "\n",
    "        // moves that halt game and unlock tokens for winner\n",
    "        // or refund to the depositor\n",
    "\t\t\"WINX\": Transition{0, 0, 0, 0, 0, 0, 0, 0, 0, -1, 0, 0, 1, 0},\n",
    "\t\t\"WINO\": Transition{0, 0, 0, 0, 0, 0, 0, 0, 0, 0, -1, 1, 0, 0},\n",
    "\t\t\"ENDX\": Transition{0, 0, 0, 0, 0, 0, 0, 0, 0, 0, -1, 0, 0, 1},\n",
    "\t\t\"ENDO\": Transition{0, 0, 0, 0, 0, 0, 0, 0, 0, -1, 0, 0, 0, 1},\n",
    "\t},\n",
    "}"
   ]
  },
  {
   "cell_type": "code",
   "execution_count": 3,
   "metadata": {},
   "outputs": [],
   "source": [
    "// contract declaration adds more rules in addition to the state machine\n",
    "gameContract := Declaration{\n",
    "    // inputs are similar to most cryptocurrency rules\n",
    "    // and represent a type of 'pay-to-script' functionality\n",
    "    // tokens are lock away in the contract until the blockheight is exceeded (invalid/fault)\n",
    "    // or the contract halts (valid completion)\n",
    "\tInputs: []AddressAmountMap{\n",
    "\t\tAddressAmountMap{Address[DEPOSITOR], 1}, // deposit 1 token\n",
    "\t},\n",
    "    // outputs are referenced by Guards and Conditions\n",
    "    // and are used as an Access Control List (ACL)\n",
    "    // to define roles of users that are allowed to interact\n",
    "    // with the contract in addition to defining which users\n",
    "    // can withdraw tokens from a completed/halted contract\n",
    "\tOutputs: []AddressAmountMap{ // array of possible redeemers\n",
    "\t\tAddressAmountMap{Address[DEPOSITOR], 1},\n",
    "\t\tAddressAmountMap{Address[PLAYERX], 1},\n",
    "\t\tAddressAmountMap{Address[PLAYERO], 1},\n",
    "\t},\n",
    "\tBlockHeight: 60221409,      // deadline to achieve halting state\n",
    "\tSalt:        \"|RANDOM|\",    // random salt\n",
    "\tContractID:  \"|OctoeContractID|\",// unique ID for this contract instance\n",
    "\tSchema:      \"octoe-v1\",    // versioned contract schema\n",
    "\tState:       m.Initial,     // state machine initial state\n",
    "\tActions:     m.Transitions, // state machine defined transitions\n",
    "\tGuards: []Condition{ // guards restrict state machine actions\n",
    "\t\t//       00 01 02 10 11 12 20 21 22  O  X $O $X $DEP\n",
    "\t\tCondition{0, 0, 0, 0, 0, 0, 0, 0, 0, 0, 0, 0, 0, 0}, // Admin/Depositor\n",
    "\t\tCondition{0, 0, 0, 0, 0, 0, 0, 0, 0, 0, -1, 0, 0, 0},// PlayerX turn\n",
    "\t\tCondition{0, 0, 0, 0, 0, 0, 0, 0, 0, -1, 0, 0, 0, 0},// PlayerO turn\n",
    "\t},\n",
    "\tConditions: []Condition{ // redeem conditions to unlock input tokens\n",
    "\t\t//       00 01 02 10 11 12 20 21 22  O  X $O $X $DEP\n",
    "\t\tCondition{0, 0, 0, 0, 0, 0, 0, 0, 0, 0, 0, 0, 0, -1},// no win/refund deposit\n",
    "\t\tCondition{0, 0, 0, 0, 0, 0, 0, 0, 0, 0, 0, 0, -1, 0},// X win\n",
    "\t\tCondition{0, 0, 0, 0, 0, 0, 0, 0, 0, 0, 0, -1, 0, 0},// O win \n",
    "\t},\n",
    "}"
   ]
  },
  {
   "cell_type": "code",
   "execution_count": 4,
   "metadata": {},
   "outputs": [],
   "source": [
    "// use declaration to construct an offer\n",
    "// this is a data wrapper that is used to isolate transaction ops from declaration ops\n",
    "// NOTE: mostly this is just an artifact of this implementation not especially meaningful\n",
    "offer := finite.Offer{\n",
    "    ChainID: CHAIN_ID,\n",
    "\tDeclaration: gameContract,\n",
    "}"
   ]
  },
  {
   "cell_type": "code",
   "execution_count": 5,
   "metadata": {},
   "outputs": [
    {
     "data": {
      "text/plain": [
       "\n",
       "ChainID: |ChainID|\n",
       "Inputs: \n",
       "\tAddress: dd808299f72f362e3cab3b8d1955505133ed1d1c72db295108f8896f767aeb7b Amount: 1 \n",
       "Outputs: \n",
       "\tAddress: dd808299f72f362e3cab3b8d1955505133ed1d1c72db295108f8896f767aeb7b Amount: 1 \n",
       "\tAddress: 947b35b8e4dad5957e24ed0bf02903c6390863753c753106a778111000cefa04 Amount: 1 \n",
       "\tAddress: 1c6334d78fd8a6879c7143d2cf16ad7559d5e37c1587c2025fa44b41be597db7 Amount: 1 \n",
       "BlockHeight: 60221409\n",
       "Salt: |RANDOM|\n",
       "ContractID: |OctoeContractID|\n",
       "Schema: octoe-v1\n",
       "State: [1 1 1 1 1 1 1 1 1 1 1 1 1 1]\n",
       "Actions: \n",
       "\tENDO: [0 0 0 0 0 0 0 0 0 -1 0 0 0 1]\n",
       "\tENDX: [0 0 0 0 0 0 0 0 0 0 -1 0 0 1]\n",
       "\tEXEC: [0 0 0 0 0 0 0 0 0 -1 0 -1 -1 -1]\n",
       "\tO00: [-1 0 0 0 0 0 0 0 0 -1 1 0 0 0]\n",
       "\tO01: [0 -1 0 0 0 0 0 0 0 -1 1 0 0 0]\n",
       "\tO02: [0 0 -1 0 0 0 0 0 0 -1 1 0 0 0]\n",
       "\tO10: [0 0 0 -1 0 0 0 0 0 -1 1 0 0 0]\n",
       "\tO11: [0 0 0 0 -1 0 0 0 0 -1 1 0 0 0]\n",
       "\tO12: [0 0 0 0 0 -1 0 0 0 -1 1 0 0 0]\n",
       "\tO20: [0 0 0 0 0 0 -1 0 0 -1 1 0 0 0]\n",
       "\tO21: [0 0 0 0 0 0 0 -1 0 -1 1 0 0 0]\n",
       "\tO22: [0 0 0 0 0 0 0 0 -1 -1 1 0 0 0]\n",
       "\tWINO: [0 0 0 0 0 0 0 0 0 0 -1 1 0 0]\n",
       "\tWINX: [0 0 0 0 0 0 0 0 0 -1 0 0 1 0]\n",
       "\tX00: [-1 0 0 0 0 0 0 0 0 1 -1 0 0 0]\n",
       "\tX01: [0 -1 0 0 0 0 0 0 0 1 -1 0 0 0]\n",
       "\tX02: [0 0 -1 0 0 0 0 0 0 1 -1 0 0 0]\n",
       "\tX10: [0 0 0 -1 0 0 0 0 0 1 -1 0 0 0]\n",
       "\tX11: [0 0 0 0 -1 0 0 0 0 1 -1 0 0 0]\n",
       "\tX12: [0 0 0 0 0 -1 0 0 0 1 -1 0 0 0]\n",
       "\tX20: [0 0 0 0 0 0 -1 0 0 1 -1 0 0 0]\n",
       "\tX21: [0 0 0 0 0 0 0 -1 0 1 -1 0 0 0]\n",
       "\tX22: [0 0 0 0 0 0 0 0 -1 1 -1 0 0 0]\n",
       "Guards: \n",
       "\t0: [0 0 0 0 0 0 0 0 0 0 0 0 0 0]\n",
       "\t1: [0 0 0 0 0 0 0 0 0 0 -1 0 0 0]\n",
       "\t2: [0 0 0 0 0 0 0 0 0 -1 0 0 0 0]\n",
       "Conditions: \n",
       "\t0: [0 0 0 0 0 0 0 0 0 0 0 0 0 -1]\n",
       "\t1: [0 0 0 0 0 0 0 0 0 0 0 0 -1 0]\n",
       "\t2: [0 0 0 0 0 0 0 0 0 0 0 -1 0 0]\n"
      ]
     },
     "execution_count": 5,
     "metadata": {},
     "output_type": "execute_result"
    }
   ],
   "source": [
    "offer.String()"
   ]
  },
  {
   "cell_type": "code",
   "execution_count": 6,
   "metadata": {},
   "outputs": [
    {
     "data": {
      "text/plain": [
       "false"
      ]
     },
     "execution_count": 6,
     "metadata": {},
     "output_type": "execute_result"
    }
   ],
   "source": [
    "// check to see if contract has been recorded yet (it hasn't)\n",
    "Exists(gameContract.Schema, gameContract.ContractID)"
   ]
  },
  {
   "cell_type": "code",
   "execution_count": 7,
   "metadata": {},
   "outputs": [
    {
     "data": {
      "text/plain": [
       "\n",
       "Timestamp:   1542725960248198058\n",
       "Schema:      octoe-v1\n",
       "Action:      EXEC\n",
       "Oid:         |OctoeContractID|\n",
       "Value:       1\n",
       "InputState:  [1 1 1 1 1 1 1 1 1 1 1 1 1 1]\n",
       "OutputState: [1 1 1 1 1 1 1 1 1 0 1 0 0 0]\n",
       "Payload:\n",
       "\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\n",
       "digest:\n",
       "\t279b233068449eaedc4cb750ee70d5338bc2aea764aa67f1ef22e1b4522f43cc\n",
       "pubkeys: \n",
       "\t824e2a348148276ccc0013c12bd43eb07b4f486decef781cbff6ecb72105cdfc\n",
       "signatures: \n",
       "\te0cff072bc68fa70fbff7b0ef7524958d5f09bb041c8fb4b61d96bc6e6083786fe854d4cfdd2764945ba679cf6f6ca83544487db7e2221a392b6a827ba375c08\n"
      ]
     },
     "execution_count": 7,
     "metadata": {},
     "output_type": "execute_result"
    }
   ],
   "source": [
    "// to begin contract execution an - offer transaction is made\n",
    "// by convention the initial state should be set to the upper bound\n",
    "// for all the variables used by the contract\n",
    "// in this contract no variable is ever > 1\n",
    "//\n",
    "// NOTE by design - the state machine reports any output values < 0 as invalid\n",
    "// see: https://en.wikipedia.org/wiki/Vector_addition_system for more details\n",
    "txn := finite.OfferTransaction(offer, Private[DEPOSITOR])\n",
    "txn.String() // notice the event below contains the json-encoded contract declaration"
   ]
  },
  {
   "cell_type": "code",
   "execution_count": 8,
   "metadata": {},
   "outputs": [
    {
     "data": {
      "text/plain": [
       "true"
      ]
     },
     "execution_count": 8,
     "metadata": {},
     "output_type": "execute_result"
    }
   ],
   "source": [
    "// check to see if our contract has been recorded\n",
    "Exists(gameContract.Schema, gameContract.ContractID)"
   ]
  },
  {
   "cell_type": "code",
   "execution_count": 9,
   "metadata": {},
   "outputs": [
    {
     "data": {
      "text/plain": [
       "false"
      ]
     },
     "execution_count": 9,
     "metadata": {},
     "output_type": "execute_result"
    }
   ],
   "source": [
    "// show that contract is still open\n",
    "IsHalted(gameContract)"
   ]
  },
  {
   "cell_type": "code",
   "execution_count": 10,
   "metadata": {},
   "outputs": [
    {
     "data": {
      "text/plain": [
       "false"
      ]
     },
     "execution_count": 10,
     "metadata": {},
     "output_type": "execute_result"
    }
   ],
   "source": [
    "// show that tokens are locked\n",
    "// even original depositor cannot withdraw tokens\n",
    "CanRedeem(gameContract, Public[DEPOSITOR])"
   ]
  },
  {
   "cell_type": "code",
   "execution_count": 11,
   "metadata": {},
   "outputs": [],
   "source": [
    "// Helper function to make it easier to compose transactions in this example\n",
    "func commit(action string, key PrivateKey, payload []byte) (finite.Transaction, error) {\n",
    "\tpub := PublicKey{}\n",
    "\tcopy(pub[:], x.PrivateKeyToPub(key[:])) // get public key\n",
    "\treturn finite.ExecuteTransaction(finite.Execution{\n",
    "\t\tCommand: Command{\n",
    "\t\t\tChainID:    CHAIN_ID,// which chain to add entry\n",
    "\t\t\tContractID: \"|OctoeContractID|\",\n",
    "\t\t\tSchema:     OctoeV1, // state machine version\n",
    "\t\t\tAction:     action,  // state machine action\n",
    "\t\t\tAmount:     1,       // triggers input action 'n' times amount\n",
    "\t\t\tPayload:    payload, // arbitrary data optionally included\n",
    "\t\t\tPubkey:     pub,     // must match key in contract declaration\n",
    "\t\t},\n",
    "\t}, key)\n",
    "}"
   ]
  },
  {
   "cell_type": "code",
   "execution_count": 12,
   "metadata": {},
   "outputs": [
    {
     "data": {
      "text/plain": [
       "\n",
       "Timestamp:   1542725960252192977\n",
       "Schema:      octoe-v1\n",
       "Action:      X11\n",
       "Oid:         |OctoeContractID|\n",
       "Value:       1\n",
       "InputState:  [1 1 1 1 1 1 1 1 1 0 1 0 0 0]\n",
       "OutputState: [1 1 1 1 0 1 1 1 1 1 0 0 0 0]\n",
       "Payload:\n",
       "\t5b2268656c6c6f222c22776f726c64225d\n",
       "digest:\n",
       "\td1b90bd64f9f5263ca152b8d39207faad90b9c577dcc70da6e61788bb528c9a4\n",
       "pubkeys: \n",
       "\tf09b40a1ceb3cd37f7a3584bbcccde13ad1d8313254f8d6fb3870786264179bf\n",
       "signatures: \n",
       "\t310801a6686a17a1ef5cf7216e0084bbab5a1d28355088466a904aa6b0012905301426c637513bb18aea59c2b252178ea8f1b3f5c49fa81b73a8af73e9f0bb0f\n"
      ]
     },
     "execution_count": 12,
     "metadata": {},
     "output_type": "execute_result"
    }
   ],
   "source": [
    "// an event with an arbitrary payload attached\n",
    "// on-chain it is expected that this payload is used to attach\n",
    "// additional supporting data or evidence that \n",
    "// an action is being executed according to the intent of the contract\n",
    "payload, _ := json.Marshal([]string{\"hello\", \"world\"})\n",
    "event1, _ := commit(\"X11\", Private[PLAYERX], payload)\n",
    "event1.String()"
   ]
  },
  {
   "cell_type": "code",
   "execution_count": 13,
   "metadata": {},
   "outputs": [
    {
     "data": {
      "text/plain": [
       "invalid output: -1 offset: 10"
      ]
     },
     "execution_count": 13,
     "metadata": {},
     "output_type": "execute_result"
    }
   ],
   "source": [
    "// show an invalid move\n",
    "// according to this state machine players must take turns\n",
    "_, err := commit(\"X00\", Private[PLAYERX], nil)\n",
    "err"
   ]
  },
  {
   "cell_type": "code",
   "execution_count": 14,
   "metadata": {},
   "outputs": [
    {
     "data": {
      "text/plain": [
       "failed guard condition"
      ]
     },
     "execution_count": 14,
     "metadata": {},
     "output_type": "execute_result"
    }
   ],
   "source": [
    "// another invalid move - here we try to sign with an incorrect key\n",
    "// contract makes players sign each event\n",
    "_, err := commit(\"O01\", Private[PLAYERX], nil)\n",
    "err"
   ]
  },
  {
   "cell_type": "code",
   "execution_count": 15,
   "metadata": {},
   "outputs": [
    {
     "data": {
      "text/plain": [
       "\n",
       "Timestamp:   1542725960259065819\n",
       "Schema:      octoe-v1\n",
       "Action:      O01\n",
       "Oid:         |OctoeContractID|\n",
       "Value:       1\n",
       "InputState:  [1 1 1 1 0 1 1 1 1 1 0 0 0 0]\n",
       "OutputState: [1 0 1 1 0 1 1 1 1 0 1 0 0 0]\n",
       "Payload:\n",
       "\t\n",
       "digest:\n",
       "\t1ba445168c2bdfba147bb1b7241d7f36011a5ef897fad331d40914b6b70a59ad\n",
       "pubkeys: \n",
       "\t843ec312a748b8c42989281ca090d0c659f6a03e8346edf7d4d512a8b76a76ef\n",
       "signatures: \n",
       "\tbff9cd82324458f2270dea8ba977b55e3bdf53088fccaa915233c0323ff34bc2286abff76134cbea054722606f4ceca445eb7ebfa96a5956063593bc48f0150f\n"
      ]
     },
     "execution_count": 15,
     "metadata": {},
     "output_type": "execute_result"
    }
   ],
   "source": [
    "// valid\n",
    "event2, _ := commit(\"O01\", Private[PLAYERO], nil)\n",
    "event2.String()"
   ]
  },
  {
   "cell_type": "code",
   "execution_count": 16,
   "metadata": {},
   "outputs": [
    {
     "data": {
      "text/plain": [
       "invalid output: -1 offset: 4"
      ]
     },
     "execution_count": 16,
     "metadata": {},
     "output_type": "execute_result"
    }
   ],
   "source": [
    "// invalid - state machine ensures move is used only once\n",
    "// move X11 is already taken as seen above\n",
    "_, err := commit(\"X11\", Private[PLAYERX], nil)\n",
    "err"
   ]
  },
  {
   "cell_type": "code",
   "execution_count": 17,
   "metadata": {},
   "outputs": [
    {
     "ename": "ERROR",
     "evalue": "repl.go:4:15: undefined identifier: event6",
     "output_type": "error",
     "traceback": [
      "repl.go:4:15: undefined identifier: event6"
     ]
    }
   ],
   "source": [
    "// valid\n",
    "event3, _ := commit(\"X00\", Private[PLAYERX], nil)\n",
    "\n",
    "[]interface{}{event6.Action, event6.InputState, \"=>\", event6.OutputState}"
   ]
  },
  {
   "cell_type": "code",
   "execution_count": 18,
   "metadata": {},
   "outputs": [
    {
     "data": {
      "text/plain": [
       "\n",
       "Timestamp:   1542725960261051859\n",
       "Schema:      octoe-v1\n",
       "Action:      O02\n",
       "Oid:         |OctoeContractID|\n",
       "Value:       1\n",
       "InputState:  [1 0 1 1 0 1 1 1 1 0 1 0 0 0]\n",
       "OutputState: []\n",
       "Payload:\n",
       "\t\n",
       "digest:\n",
       "\t\n",
       "pubkeys: \n",
       "signatures: \n"
      ]
     },
     "execution_count": 18,
     "metadata": {},
     "output_type": "execute_result"
    }
   ],
   "source": [
    "// valid\n",
    "event4, _ := commit(\"O02\", Private[PLAYERO], nil)\n",
    "event4.String()"
   ]
  },
  {
   "cell_type": "code",
   "execution_count": 19,
   "metadata": {},
   "outputs": [
    {
     "data": {
      "text/plain": [
       "\n",
       "Timestamp:   1542725960261727195\n",
       "Schema:      octoe-v1\n",
       "Action:      X22\n",
       "Oid:         |OctoeContractID|\n",
       "Value:       1\n",
       "InputState:  [1 0 1 1 0 1 1 1 1 0 1 0 0 0]\n",
       "OutputState: [1 0 1 1 0 1 1 1 0 1 0 0 0 0]\n",
       "Payload:\n",
       "\t\n",
       "digest:\n",
       "\t0cb4783005e6205c9f192114efee3dc95b99852d8e4695867c96ee1891380006\n",
       "pubkeys: \n",
       "\tf09b40a1ceb3cd37f7a3584bbcccde13ad1d8313254f8d6fb3870786264179bf\n",
       "signatures: \n",
       "\t8e91af977f68b8e87cd34f954dc638f1358959e082608b35e74f418441b5f8cab0a3d46256aee24d4f24501dbc3fca743990ec91e51d9dc8e69dcb51caa4ac08\n"
      ]
     },
     "execution_count": 19,
     "metadata": {},
     "output_type": "execute_result"
    }
   ],
   "source": [
    "// valid\n",
    "event5, _ := commit(\"X22\", Private[PLAYERX], nil)\n",
    "event5.String()"
   ]
  },
  {
   "cell_type": "code",
   "execution_count": 20,
   "metadata": {},
   "outputs": [
    {
     "data": {
      "text/plain": [
       "\n",
       "Timestamp:   1542725960262806767\n",
       "Schema:      octoe-v1\n",
       "Action:      WINX\n",
       "Oid:         |OctoeContractID|\n",
       "Value:       1\n",
       "InputState:  [1 0 1 1 0 1 1 1 0 1 0 0 0 0]\n",
       "OutputState: [1 0 1 1 0 1 1 1 0 0 0 0 1 0]\n",
       "Payload:\n",
       "\t\n",
       "digest:\n",
       "\t8b8d594bb6d20d4979860451573a929e29e39d764ba3732d1d4f0f444c8d06f0\n",
       "pubkeys: \n",
       "\t824e2a348148276ccc0013c12bd43eb07b4f486decef781cbff6ecb72105cdfc\n",
       "signatures: \n",
       "\tad4b5121bfbfa931fdefa93671c5ec22337c389a34bca93e3fdb493af59dec4258e4b1281c0e9ff1a8cada9a49222dd0356ed13b216ab16bd65a094b9ddba00c\n"
      ]
     },
     "execution_count": 20,
     "metadata": {},
     "output_type": "execute_result"
    }
   ],
   "source": [
    "// game is over\n",
    "// contract depositor confirms the winner\n",
    "// this halts the state machine thereby unlocking the deposited tokens\n",
    "event6, _ := commit(\"WINX\", Private[DEPOSITOR], nil)\n",
    "event6.String()"
   ]
  },
  {
   "cell_type": "code",
   "execution_count": 21,
   "metadata": {},
   "outputs": [
    {
     "data": {
      "text/plain": [
       "true"
      ]
     },
     "execution_count": 21,
     "metadata": {},
     "output_type": "execute_result"
    }
   ],
   "source": [
    "// contract is only redeemable after halting\n",
    "IsHalted(gameContract)"
   ]
  },
  {
   "cell_type": "code",
   "execution_count": 22,
   "metadata": {},
   "outputs": [
    {
     "data": {
      "text/plain": [
       "true"
      ]
     },
     "execution_count": 22,
     "metadata": {},
     "output_type": "execute_result"
    }
   ],
   "source": [
    "// only the winner can redeem the deposit\n",
    "CanRedeem(gameContract, Public[PLAYERX])"
   ]
  },
  {
   "cell_type": "code",
   "execution_count": 23,
   "metadata": {},
   "outputs": [
    {
     "data": {
      "text/plain": [
       "false"
      ]
     },
     "execution_count": 23,
     "metadata": {},
     "output_type": "execute_result"
    }
   ],
   "source": [
    "// loser has no claim\n",
    "CanRedeem(gameContract, Public[PLAYERO])"
   ]
  }
 ],
 "metadata": {
  "kernelspec": {
   "display_name": "Go",
   "language": "go",
   "name": "gophernotes"
  },
  "language_info": {
   "codemirror_mode": "",
   "file_extension": ".go",
   "mimetype": "",
   "name": "go",
   "nbconvert_exporter": "",
   "pygments_lexer": "",
   "version": "go1.11.1"
  }
 },
 "nbformat": 4,
 "nbformat_minor": 2
}
