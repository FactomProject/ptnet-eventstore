{
 "cells": [
  {
   "cell_type": "code",
   "execution_count": 1,
   "metadata": {},
   "outputs": [],
   "source": [
    "import (\n",
    "\t\"encoding/json\"\n",
    "    . \"github.com/FactomProject/ptnet-eventstore/contract\"\n",
    "\t\"github.com/FactomProject/ptnet-eventstore/finite\"\n",
    "\t. \"github.com/FactomProject/ptnet-eventstore/identity\"\n",
    "\t. \"github.com/FactomProject/ptnet-eventstore/ptnet\"\n",
    "\t\"github.com/FactomProject/ptnet-eventstore/x\"\n",
    ")"
   ]
  },
  {
   "cell_type": "code",
   "execution_count": 2,
   "metadata": {},
   "outputs": [],
   "source": [
    "// the state machine definition composes the rules of the contract\n",
    "// machine must be designed to always end in a halting state\n",
    "// this protocol requires the machine to be halted before tokens are released\n",
    "//\n",
    "// NOTE:\n",
    "// this type of state machine classified as a https://en.wikipedia.org/wiki/Vector_addition_system\n",
    "// and can also be represented graphically as a https://en.wikipedia.org/wiki/Petri_net\n",
    "m := Machine{\n",
    "    // define the inital state - a nice convention follow\n",
    "    // is to set each variable to the max possible value\n",
    "    // that can be achieved during valid contract execution\n",
    "    // in this contract no value ever exceeds 1\n",
    "\t//                   00 01 02 10 11 12 20 21 22 O  X $O $X $DEP\n",
    "\tInitial: StateVector{1, 1, 1, 1, 1, 1, 1, 1, 1, 1, 1, 1, 1, 1},\n",
    "\n",
    "\tTransitions: map[string]Transition{\n",
    "        // each transition defines its effect \n",
    "        // on every offset 'variable' declared in the state vector\n",
    "        //\n",
    "        // NOTE: this is mathematical vector addition at work\n",
    "        // each vector is 'executed' by adding it to the preceding state\n",
    "\t\t//                00 01 02 10 11 12 20 21 22  O  X $O $X $DEP\n",
    "        // by convention a contract must have a BEGIN/\"EXEC\" transaction\n",
    "        // this action is executed when the contract is first offered\n",
    "\t\tBEGIN: Transition{0, 0, 0, 0, 0, 0, 0, 0, 0, -1, 0, -1, -1, -1},\n",
    "        // moves for player X\n",
    "\t\t\"X00\": Transition{-1, 0, 0, 0, 0, 0, 0, 0, 0, 1, -1, 0, 0, 0},\n",
    "\t\t\"X01\": Transition{0, -1, 0, 0, 0, 0, 0, 0, 0, 1, -1, 0, 0, 0},\n",
    "\t\t\"X02\": Transition{0, 0, -1, 0, 0, 0, 0, 0, 0, 1, -1, 0, 0, 0},\n",
    "\t\t\"X10\": Transition{0, 0, 0, -1, 0, 0, 0, 0, 0, 1, -1, 0, 0, 0},\n",
    "\t\t\"X11\": Transition{0, 0, 0, 0, -1, 0, 0, 0, 0, 1, -1, 0, 0, 0},\n",
    "\t\t\"X12\": Transition{0, 0, 0, 0, 0, -1, 0, 0, 0, 1, -1, 0, 0, 0},\n",
    "\t\t\"X20\": Transition{0, 0, 0, 0, 0, 0, -1, 0, 0, 1, -1, 0, 0, 0},\n",
    "\t\t\"X21\": Transition{0, 0, 0, 0, 0, 0, 0, -1, 0, 1, -1, 0, 0, 0},\n",
    "\t\t\"X22\": Transition{0, 0, 0, 0, 0, 0, 0, 0, -1, 1, -1, 0, 0, 0},\n",
    "        // moves for player O\n",
    "\t\t\"O00\": Transition{-1, 0, 0, 0, 0, 0, 0, 0, 0, -1, 1, 0, 0, 0},\n",
    "\t\t\"O01\": Transition{0, -1, 0, 0, 0, 0, 0, 0, 0, -1, 1, 0, 0, 0},\n",
    "\t\t\"O02\": Transition{0, 0, -1, 0, 0, 0, 0, 0, 0, -1, 1, 0, 0, 0},\n",
    "\t\t\"O10\": Transition{0, 0, 0, -1, 0, 0, 0, 0, 0, -1, 1, 0, 0, 0},\n",
    "\t\t\"O11\": Transition{0, 0, 0, 0, -1, 0, 0, 0, 0, -1, 1, 0, 0, 0},\n",
    "\t\t\"O12\": Transition{0, 0, 0, 0, 0, -1, 0, 0, 0, -1, 1, 0, 0, 0},\n",
    "\t\t\"O20\": Transition{0, 0, 0, 0, 0, 0, -1, 0, 0, -1, 1, 0, 0, 0},\n",
    "\t\t\"O21\": Transition{0, 0, 0, 0, 0, 0, 0, -1, 0, -1, 1, 0, 0, 0},\n",
    "\t\t\"O22\": Transition{0, 0, 0, 0, 0, 0, 0, 0, -1, -1, 1, 0, 0, 0},\n",
    "\n",
    "        // moves that halt game and unlock tokens for winner\n",
    "        // or refund to the depositor\n",
    "\t\t\"WINX\": Transition{0, 0, 0, 0, 0, 0, 0, 0, 0, -1, 0, 0, 1, 0},\n",
    "\t\t\"WINO\": Transition{0, 0, 0, 0, 0, 0, 0, 0, 0, 0, -1, 1, 0, 0},\n",
    "\t\t\"ENDX\": Transition{0, 0, 0, 0, 0, 0, 0, 0, 0, 0, -1, 0, 0, 1},\n",
    "\t\t\"ENDO\": Transition{0, 0, 0, 0, 0, 0, 0, 0, 0, -1, 0, 0, 0, 1},\n",
    "\t},\n",
    "}"
   ]
  },
  {
   "cell_type": "code",
   "execution_count": 3,
   "metadata": {},
   "outputs": [],
   "source": [
    "// contract declaration adds more rules in addition to the state machine\n",
    "gameContract := Declaration{\n",
    "    // inputs are similar to most cryptocurrency rules\n",
    "    // and represent a type of 'pay-to-script' functionality\n",
    "    // tokens are lock away in the contract until the blockheight is exceeded (invalid/fault)\n",
    "    // or the contract halts (valid completion)\n",
    "\tInputs: []AddressAmountMap{\n",
    "\t\tAddressAmountMap{Address[DEPOSITOR], 1}, // deposit 1 token\n",
    "\t},\n",
    "    // outputs are referenced by Guards and Conditions\n",
    "    // and are used as an Access Control List (ACL)\n",
    "    // to define roles of users that are allowed to interact\n",
    "    // with the contract in addition to defining which users\n",
    "    // can withdraw tokens from a completed/halted contract\n",
    "\tOutputs: []AddressAmountMap{ // array of possible redeemers\n",
    "\t\tAddressAmountMap{Address[DEPOSITOR], 1},\n",
    "\t\tAddressAmountMap{Address[PLAYERX], 1},\n",
    "\t\tAddressAmountMap{Address[PLAYERO], 1},\n",
    "\t},\n",
    "\tBlockHeight: 60221409,      // deadline to achieve halting state\n",
    "\tSalt:        \"|RANDOM|\",    // random salt\n",
    "\tContractID:  \"|OctoeContractID|\",// unique ID for this contract instance\n",
    "\tSchema:      \"octoe-v1\",    // versioned contract schema\n",
    "\tState:       m.Initial,     // state machine initial state\n",
    "\tActions:     m.Transitions, // state machine defined transitions\n",
    "\tGuards: []Condition{ // guards restrict state machine actions\n",
    "\t\t//       00 01 02 10 11 12 20 21 22  O  X $O $X $DEP\n",
    "\t\tCondition{0, 0, 0, 0, 0, 0, 0, 0, 0, 0, 0, 0, 0, 0}, // Admin/Depositor\n",
    "\t\tCondition{0, 0, 0, 0, 0, 0, 0, 0, 0, 0, -1, 0, 0, 0},// PlayerX turn\n",
    "\t\tCondition{0, 0, 0, 0, 0, 0, 0, 0, 0, -1, 0, 0, 0, 0},// PlayerO turn\n",
    "\t},\n",
    "\tConditions: []Condition{ // redeem conditions to unlock input tokens\n",
    "\t\t//       00 01 02 10 11 12 20 21 22  O  X $O $X $DEP\n",
    "\t\tCondition{0, 0, 0, 0, 0, 0, 0, 0, 0, 0, 0, 0, 0, -1},// no win/refund deposit\n",
    "\t\tCondition{0, 0, 0, 0, 0, 0, 0, 0, 0, 0, 0, 0, -1, 0},// X win\n",
    "\t\tCondition{0, 0, 0, 0, 0, 0, 0, 0, 0, 0, 0, -1, 0, 0},// O win \n",
    "\t},\n",
    "}"
   ]
  },
  {
   "cell_type": "code",
   "execution_count": 4,
   "metadata": {},
   "outputs": [],
   "source": [
    "// use declaration to construct an offer\n",
    "// this is a data wrapper that is used to isolate transaction ops from declaration ops\n",
    "// NOTE: mostly this is just an artifact of this implementation not especially meaningful\n",
    "offer := finite.Offer{\n",
    "    ChainID: CHAIN_ID,\n",
    "\tDeclaration: gameContract,\n",
    "}"
   ]
  },
  {
   "cell_type": "code",
   "execution_count": 5,
   "metadata": {},
   "outputs": [
    {
     "data": {
      "text/plain": [
       "\n",
       "ChainID: |ChainID|\n",
       "Inputs: \n",
       "\tAddress: dd808299f72f362e3cab3b8d1955505133ed1d1c72db295108f8896f767aeb7b Amount: 1 \n",
       "Outputs: \n",
       "\tAddress: dd808299f72f362e3cab3b8d1955505133ed1d1c72db295108f8896f767aeb7b Amount: 1 \n",
       "\tAddress: 947b35b8e4dad5957e24ed0bf02903c6390863753c753106a778111000cefa04 Amount: 1 \n",
       "\tAddress: 1c6334d78fd8a6879c7143d2cf16ad7559d5e37c1587c2025fa44b41be597db7 Amount: 1 \n",
       "BlockHeight: 60221409\n",
       "Salt: |RANDOM|\n",
       "ContractID: |OctoeContractID|\n",
       "Schema: octoe-v1\n",
       "State: [1 1 1 1 1 1 1 1 1 1 1 1 1 1]\n",
       "Actions: \n",
       "\tENDO: [0 0 0 0 0 0 0 0 0 -1 0 0 0 1]\n",
       "\tENDX: [0 0 0 0 0 0 0 0 0 0 -1 0 0 1]\n",
       "\tEXEC: [0 0 0 0 0 0 0 0 0 -1 0 -1 -1 -1]\n",
       "\tO00: [-1 0 0 0 0 0 0 0 0 -1 1 0 0 0]\n",
       "\tO01: [0 -1 0 0 0 0 0 0 0 -1 1 0 0 0]\n",
       "\tO02: [0 0 -1 0 0 0 0 0 0 -1 1 0 0 0]\n",
       "\tO10: [0 0 0 -1 0 0 0 0 0 -1 1 0 0 0]\n",
       "\tO11: [0 0 0 0 -1 0 0 0 0 -1 1 0 0 0]\n",
       "\tO12: [0 0 0 0 0 -1 0 0 0 -1 1 0 0 0]\n",
       "\tO20: [0 0 0 0 0 0 -1 0 0 -1 1 0 0 0]\n",
       "\tO21: [0 0 0 0 0 0 0 -1 0 -1 1 0 0 0]\n",
       "\tO22: [0 0 0 0 0 0 0 0 -1 -1 1 0 0 0]\n",
       "\tWINO: [0 0 0 0 0 0 0 0 0 0 -1 1 0 0]\n",
       "\tWINX: [0 0 0 0 0 0 0 0 0 -1 0 0 1 0]\n",
       "\tX00: [-1 0 0 0 0 0 0 0 0 1 -1 0 0 0]\n",
       "\tX01: [0 -1 0 0 0 0 0 0 0 1 -1 0 0 0]\n",
       "\tX02: [0 0 -1 0 0 0 0 0 0 1 -1 0 0 0]\n",
       "\tX10: [0 0 0 -1 0 0 0 0 0 1 -1 0 0 0]\n",
       "\tX11: [0 0 0 0 -1 0 0 0 0 1 -1 0 0 0]\n",
       "\tX12: [0 0 0 0 0 -1 0 0 0 1 -1 0 0 0]\n",
       "\tX20: [0 0 0 0 0 0 -1 0 0 1 -1 0 0 0]\n",
       "\tX21: [0 0 0 0 0 0 0 -1 0 1 -1 0 0 0]\n",
       "\tX22: [0 0 0 0 0 0 0 0 -1 1 -1 0 0 0]\n",
       "Guards: \n",
       "\t0: [0 0 0 0 0 0 0 0 0 0 0 0 0 0]\n",
       "\t1: [0 0 0 0 0 0 0 0 0 0 -1 0 0 0]\n",
       "\t2: [0 0 0 0 0 0 0 0 0 -1 0 0 0 0]\n",
       "Conditions: \n",
       "\t0: [0 0 0 0 0 0 0 0 0 0 0 0 0 -1]\n",
       "\t1: [0 0 0 0 0 0 0 0 0 0 0 0 -1 0]\n",
       "\t2: [0 0 0 0 0 0 0 0 0 0 0 -1 0 0]\n"
      ]
     },
     "execution_count": 5,
     "metadata": {},
     "output_type": "execute_result"
    }
   ],
   "source": [
    "offer.String()"
   ]
  },
  {
   "cell_type": "code",
   "execution_count": 6,
   "metadata": {},
   "outputs": [
    {
     "data": {
      "text/plain": [
       "false"
      ]
     },
     "execution_count": 6,
     "metadata": {},
     "output_type": "execute_result"
    }
   ],
   "source": [
    "// check to see if contract has been recorded yet (it hasn't)\n",
    "Exists(gameContract.Schema, gameContract.ContractID)"
   ]
  },
  {
   "cell_type": "code",
   "execution_count": 7,
   "metadata": {},
   "outputs": [
    {
     "data": {
      "text/plain": [
       "\n",
       "Timestamp:   1542727538946277646\n",
       "Schema:      octoe-v1\n",
       "Action:      EXEC\n",
       "Oid:         |OctoeContractID|\n",
       "Value:       1\n",
       "InputState:  [1 1 1 1 1 1 1 1 1 1 1 1 1 1]\n",
       "OutputState: [1 1 1 1 1 1 1 1 1 0 1 0 0 0]\n",
       "Payload:\n",
       "\t1f8b08000000000000ffacd4cf8fa2301407f0ffe55da7665b708ddb640f1330ea64069455d61fe1808551560557caac338efffb0644844a3d4df060da0fafedfba61c210877098f81ce8fe07adede8f63a0a04e356dfbcade8ca0d9fefb91185ddb1e8e4703deb30eefcafbc6d206c1d3429db55a6afc1310b8db280939507272104409ffca8aa85c65d38b49628e5c32b31f9e4cfcdcd6d6fae1cfba3f55c76d6fd4e9eed4a5d579d4cd87e5f04e955ef70593e6b7e92ef2191b0f7e7d1c5ceed9a1dd54ffd9ab765f9bb4ace7e1e2fbec75c16e4eb7d8446cbdf283e58a036d6145214dfc0341ec6e3850f8b41e0ddd7cf904042c0af9de653cf0d27193f1c8d7f2a1be9e8298adfcad0b14a274aef146d231ee721fe89c20e9e32048ab46610cf4081d433781ce31129f06c9ffa42f740c7d52ab0a97a9494793d76a90f3cf4160620c745eac5081f960a64856edc6094ac9d7145c55115cecace204454afb2f394129955316aeaa142cf422778222371dbb74abac949abe9e1b7a55bffb467d94d76a67551fe525c84c4d640991e2b89992242428494255254b48509284042549a8aa6409094a9290a0240995d409c13271f75efa65ab4d095fcaddbb68f5d3d74e384ef6e9f082fc8adf5b2abd8cd2e906916ee5b29ee39cfe030000ffff010000fffff4330e8400060000\n",
       "digest:\n",
       "\t80d8c2e09cdbbaf7141dc38400ddda8288874262708f6a5018664223ac76f63f\n",
       "pubkeys: \n",
       "\t824e2a348148276ccc0013c12bd43eb07b4f486decef781cbff6ecb72105cdfc\n",
       "signatures: \n",
       "\t57fda78d68afe1d360ed17fa7ba43516618f7d5837d74c79810ead520464653e93fea1ce64b67f12a98fdcb1a6f662151ca5a7865f47f0a8455c4b7651d3940c\n"
      ]
     },
     "execution_count": 7,
     "metadata": {},
     "output_type": "execute_result"
    }
   ],
   "source": [
    "// to begin contract execution an - offer transaction is made\n",
    "// by convention the initial state should be set to the upper bound\n",
    "// for all the variables used by the contract\n",
    "// in this contract no variable is ever > 1\n",
    "//\n",
    "// NOTE by design - the state machine reports any output values < 0 as invalid\n",
    "// see: https://en.wikipedia.org/wiki/Vector_addition_system for more details\n",
    "txn := finite.OfferTransaction(offer, Private[DEPOSITOR])\n",
    "txn.String() // notice the event below contains the json-encoded contract declaration"
   ]
  },
  {
   "cell_type": "code",
   "execution_count": 8,
   "metadata": {},
   "outputs": [
    {
     "data": {
      "text/plain": [
       "true"
      ]
     },
     "execution_count": 8,
     "metadata": {},
     "output_type": "execute_result"
    }
   ],
   "source": [
    "// check to see if our contract has been recorded\n",
    "Exists(gameContract.Schema, gameContract.ContractID)"
   ]
  },
  {
   "cell_type": "code",
   "execution_count": 9,
   "metadata": {},
   "outputs": [
    {
     "data": {
      "text/plain": [
       "false"
      ]
     },
     "execution_count": 9,
     "metadata": {},
     "output_type": "execute_result"
    }
   ],
   "source": [
    "// show that contract is still open\n",
    "IsHalted(gameContract)"
   ]
  },
  {
   "cell_type": "code",
   "execution_count": 10,
   "metadata": {},
   "outputs": [
    {
     "data": {
      "text/plain": [
       "false"
      ]
     },
     "execution_count": 10,
     "metadata": {},
     "output_type": "execute_result"
    }
   ],
   "source": [
    "// show that tokens are locked\n",
    "// even original depositor cannot withdraw tokens\n",
    "CanRedeem(gameContract, Public[DEPOSITOR])"
   ]
  },
  {
   "cell_type": "code",
   "execution_count": 11,
   "metadata": {},
   "outputs": [],
   "source": [
    "// Helper function to make it easier to compose transactions in this example\n",
    "func commit(action string, key PrivateKey, payload []byte) (finite.Transaction, error) {\n",
    "\tpub := PublicKey{}\n",
    "\tcopy(pub[:], x.PrivateKeyToPub(key[:])) // get public key\n",
    "\treturn finite.ExecuteTransaction(finite.Execution{\n",
    "\t\tCommand: Command{\n",
    "\t\t\tChainID:    CHAIN_ID,// which chain to add entry\n",
    "\t\t\tContractID: \"|OctoeContractID|\",\n",
    "\t\t\tSchema:     OctoeV1, // state machine version\n",
    "\t\t\tAction:     action,  // state machine action\n",
    "\t\t\tAmount:     1,       // triggers input action 'n' times amount\n",
    "\t\t\tPayload:    payload, // arbitrary data optionally included\n",
    "\t\t\tPubkey:     pub,     // must match key in contract declaration\n",
    "\t\t},\n",
    "\t}, key)\n",
    "}"
   ]
  },
  {
   "cell_type": "code",
   "execution_count": 12,
   "metadata": {},
   "outputs": [
    {
     "data": {
      "text/plain": [
       "\n",
       "Timestamp:   1542727538949096031\n",
       "Schema:      octoe-v1\n",
       "Action:      X11\n",
       "Oid:         |OctoeContractID|\n",
       "Value:       1\n",
       "InputState:  [1 1 1 1 1 1 1 1 1 0 1 0 0 0]\n",
       "OutputState: [1 1 1 1 0 1 1 1 1 1 0 0 0 0]\n",
       "Payload:\n",
       "\t1f8b08000000000000ff8a56ca48cdc9c957d2512acf2fca49518a05000000ffff010000ffff18681e1211000000\n",
       "digest:\n",
       "\tf64228e127dfd6a7797851cc652a5db3d38427e836ce89a5fd926c4536572c81\n",
       "pubkeys: \n",
       "\tf09b40a1ceb3cd37f7a3584bbcccde13ad1d8313254f8d6fb3870786264179bf\n",
       "signatures: \n",
       "\t2f8f0c94449b38121780e8e77789ea20ef0ad62576f782c6f3ea730cd3ef52895aef9f303feba2b0f6c4a60adeaf7afc9759a5b5f0a132618e0b1ddd07b35e0a\n"
      ]
     },
     "execution_count": 12,
     "metadata": {},
     "output_type": "execute_result"
    }
   ],
   "source": [
    "// an event with an arbitrary payload attached\n",
    "// on-chain it is expected that this payload is used to attach\n",
    "// additional supporting data or evidence that \n",
    "// an action is being executed according to the intent of the contract\n",
    "payload, _ := json.Marshal([]string{\"hello\", \"world\"})\n",
    "event1, _ := commit(\"X11\", Private[PLAYERX], payload)\n",
    "event1.String()"
   ]
  },
  {
   "cell_type": "code",
   "execution_count": 13,
   "metadata": {},
   "outputs": [
    {
     "data": {
      "text/plain": [
       "invalid output: -1 offset: 10"
      ]
     },
     "execution_count": 13,
     "metadata": {},
     "output_type": "execute_result"
    }
   ],
   "source": [
    "// show an invalid move\n",
    "// according to this state machine players must take turns\n",
    "_, err := commit(\"X00\", Private[PLAYERX], nil)\n",
    "err"
   ]
  },
  {
   "cell_type": "code",
   "execution_count": 14,
   "metadata": {},
   "outputs": [
    {
     "data": {
      "text/plain": [
       "failed guard condition"
      ]
     },
     "execution_count": 14,
     "metadata": {},
     "output_type": "execute_result"
    }
   ],
   "source": [
    "// another invalid move - here we try to sign with an incorrect key\n",
    "// contract makes players sign each event\n",
    "_, err := commit(\"O01\", Private[PLAYERX], nil)\n",
    "err"
   ]
  },
  {
   "cell_type": "code",
   "execution_count": 15,
   "metadata": {},
   "outputs": [
    {
     "data": {
      "text/plain": [
       "\n",
       "Timestamp:   1542727538951758593\n",
       "Schema:      octoe-v1\n",
       "Action:      O01\n",
       "Oid:         |OctoeContractID|\n",
       "Value:       1\n",
       "InputState:  [1 1 1 1 0 1 1 1 1 1 0 0 0 0]\n",
       "OutputState: [1 0 1 1 0 1 1 1 1 0 1 0 0 0]\n",
       "Payload:\n",
       "\t\n",
       "digest:\n",
       "\tdb403f7d310b2c2d84a2c9082c45d3742754664555d6250abb57ef0dc03a8d39\n",
       "pubkeys: \n",
       "\t843ec312a748b8c42989281ca090d0c659f6a03e8346edf7d4d512a8b76a76ef\n",
       "signatures: \n",
       "\t8daadb2c0ba631ec17b1acdb7f9d0877f8f10fe1735967e58c09bf3a7477f834cc6b309d05ebf8bbadee90b5f224207318d08a4e375b4b3a959b83ff84a49800\n"
      ]
     },
     "execution_count": 15,
     "metadata": {},
     "output_type": "execute_result"
    }
   ],
   "source": [
    "// valid\n",
    "event2, _ := commit(\"O01\", Private[PLAYERO], nil)\n",
    "event2.String()"
   ]
  },
  {
   "cell_type": "code",
   "execution_count": 16,
   "metadata": {},
   "outputs": [
    {
     "data": {
      "text/plain": [
       "invalid output: -1 offset: 4"
      ]
     },
     "execution_count": 16,
     "metadata": {},
     "output_type": "execute_result"
    }
   ],
   "source": [
    "// invalid - state machine ensures move is used only once\n",
    "// move X11 is already taken as seen above\n",
    "_, err := commit(\"X11\", Private[PLAYERX], nil)\n",
    "err"
   ]
  },
  {
   "cell_type": "code",
   "execution_count": 17,
   "metadata": {},
   "outputs": [
    {
     "data": {
      "text/plain": [
       "\n",
       "Timestamp:   1542727538953140133\n",
       "Schema:      octoe-v1\n",
       "Action:      X00\n",
       "Oid:         |OctoeContractID|\n",
       "Value:       1\n",
       "InputState:  [1 0 1 1 0 1 1 1 1 0 1 0 0 0]\n",
       "OutputState: [0 0 1 1 0 1 1 1 1 1 0 0 0 0]\n",
       "Payload:\n",
       "\t\n",
       "digest:\n",
       "\t1e6cad21b5b3ce95f1c27c61ecce9cabd517c219917d62382c6c03250baf3afb\n",
       "pubkeys: \n",
       "\tf09b40a1ceb3cd37f7a3584bbcccde13ad1d8313254f8d6fb3870786264179bf\n",
       "signatures: \n",
       "\te7112e843681744e80155685bc15045ed174dd250ca25a4061fec5512865044c1372697499f334c35e7b2f6cf2a718c8011734c6c2974bbbdee32f29245a4206\n"
      ]
     },
     "execution_count": 17,
     "metadata": {},
     "output_type": "execute_result"
    }
   ],
   "source": [
    "// valid\n",
    "event3, _ := commit(\"X00\", Private[PLAYERX], nil)\n",
    "event3.String()"
   ]
  },
  {
   "cell_type": "code",
   "execution_count": 18,
   "metadata": {},
   "outputs": [
    {
     "data": {
      "text/plain": [
       "\n",
       "Timestamp:   1542727538953886997\n",
       "Schema:      octoe-v1\n",
       "Action:      O02\n",
       "Oid:         |OctoeContractID|\n",
       "Value:       1\n",
       "InputState:  [0 0 1 1 0 1 1 1 1 1 0 0 0 0]\n",
       "OutputState: [0 0 0 1 0 1 1 1 1 0 1 0 0 0]\n",
       "Payload:\n",
       "\t\n",
       "digest:\n",
       "\t06f7230c5e213bb97b4ab50c3bb1322c826b6360bec27545b6971a04e146b0b0\n",
       "pubkeys: \n",
       "\t843ec312a748b8c42989281ca090d0c659f6a03e8346edf7d4d512a8b76a76ef\n",
       "signatures: \n",
       "\taa018696d63d02d8ab47d8358428bbf405cf0422a18fa95114c762982a599722fc4a63a59ba1a49acdab1f1d8d17302e64e9f9bf0941352534544949449c8304\n"
      ]
     },
     "execution_count": 18,
     "metadata": {},
     "output_type": "execute_result"
    }
   ],
   "source": [
    "// valid\n",
    "event4, _ := commit(\"O02\", Private[PLAYERO], nil)\n",
    "event4.String()"
   ]
  },
  {
   "cell_type": "code",
   "execution_count": 19,
   "metadata": {},
   "outputs": [
    {
     "data": {
      "text/plain": [
       "\n",
       "Timestamp:   1542727538954690941\n",
       "Schema:      octoe-v1\n",
       "Action:      X22\n",
       "Oid:         |OctoeContractID|\n",
       "Value:       1\n",
       "InputState:  [0 0 0 1 0 1 1 1 1 0 1 0 0 0]\n",
       "OutputState: [0 0 0 1 0 1 1 1 0 1 0 0 0 0]\n",
       "Payload:\n",
       "\t\n",
       "digest:\n",
       "\tb19ee8963f8a563fa653202e1891d685fbde4356e3fc3ff5f29583d843150824\n",
       "pubkeys: \n",
       "\tf09b40a1ceb3cd37f7a3584bbcccde13ad1d8313254f8d6fb3870786264179bf\n",
       "signatures: \n",
       "\t64e100946c25d4dd23c44d58a6641099384da46988b99f24c37304f00ec11cc45a968661fa972aa7c986b61d9a22cbe8c81668d7a2278ea03c6445bf1b5ff301\n"
      ]
     },
     "execution_count": 19,
     "metadata": {},
     "output_type": "execute_result"
    }
   ],
   "source": [
    "// valid\n",
    "event5, _ := commit(\"X22\", Private[PLAYERX], nil)\n",
    "event5.String()"
   ]
  },
  {
   "cell_type": "code",
   "execution_count": 20,
   "metadata": {},
   "outputs": [
    {
     "data": {
      "text/plain": [
       "\n",
       "Timestamp:   1542727538955406491\n",
       "Schema:      octoe-v1\n",
       "Action:      WINX\n",
       "Oid:         |OctoeContractID|\n",
       "Value:       1\n",
       "InputState:  [0 0 0 1 0 1 1 1 0 1 0 0 0 0]\n",
       "OutputState: [0 0 0 1 0 1 1 1 0 0 0 0 1 0]\n",
       "Payload:\n",
       "\t\n",
       "digest:\n",
       "\t4b8c81ef904b8d003486939d22f8f359e9decfa104efd3d8bbe0388f11cf1135\n",
       "pubkeys: \n",
       "\t824e2a348148276ccc0013c12bd43eb07b4f486decef781cbff6ecb72105cdfc\n",
       "signatures: \n",
       "\t0bfc3dcaa077f639d9e8340941a2fc5fc65d3ba727343085d05b884568d152d37dde9ceea5644ed4ae4c428f6d50aa29a07d6313c7b27d7271db6d87308ac703\n"
      ]
     },
     "execution_count": 20,
     "metadata": {},
     "output_type": "execute_result"
    }
   ],
   "source": [
    "// game is over\n",
    "// contract depositor confirms the winner\n",
    "// this halts the state machine thereby unlocking the deposited tokens\n",
    "event6, _ := commit(\"WINX\", Private[DEPOSITOR], nil)\n",
    "event6.String()"
   ]
  },
  {
   "cell_type": "code",
   "execution_count": 21,
   "metadata": {},
   "outputs": [
    {
     "data": {
      "text/plain": [
       "true"
      ]
     },
     "execution_count": 21,
     "metadata": {},
     "output_type": "execute_result"
    }
   ],
   "source": [
    "// contract is only redeemable after halting\n",
    "IsHalted(gameContract)"
   ]
  },
  {
   "cell_type": "code",
   "execution_count": 22,
   "metadata": {},
   "outputs": [
    {
     "data": {
      "text/plain": [
       "true"
      ]
     },
     "execution_count": 22,
     "metadata": {},
     "output_type": "execute_result"
    }
   ],
   "source": [
    "// only the winner can redeem the deposit\n",
    "CanRedeem(gameContract, Public[PLAYERX])"
   ]
  },
  {
   "cell_type": "code",
   "execution_count": 23,
   "metadata": {},
   "outputs": [
    {
     "data": {
      "text/plain": [
       "false"
      ]
     },
     "execution_count": 23,
     "metadata": {},
     "output_type": "execute_result"
    }
   ],
   "source": [
    "// loser has no claim\n",
    "CanRedeem(gameContract, Public[PLAYERO])"
   ]
  }
 ],
 "metadata": {
  "kernelspec": {
   "display_name": "Go",
   "language": "go",
   "name": "gophernotes"
  },
  "language_info": {
   "codemirror_mode": "",
   "file_extension": ".go",
   "mimetype": "",
   "name": "go",
   "nbconvert_exporter": "",
   "pygments_lexer": "",
   "version": "go1.11.1"
  }
 },
 "nbformat": 4,
 "nbformat_minor": 2
}
