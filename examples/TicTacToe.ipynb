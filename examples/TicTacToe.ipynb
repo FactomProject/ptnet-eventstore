{
 "cells": [
  {
   "cell_type": "code",
   "execution_count": 1,
   "metadata": {},
   "outputs": [],
   "source": [
    "import (\n",
    "\t\"encoding/json\"\n",
    "    . \"github.com/FactomProject/ptnet-eventstore/contract\"\n",
    "\t\"github.com/FactomProject/ptnet-eventstore/finite\"\n",
    "\t. \"github.com/FactomProject/ptnet-eventstore/identity\"\n",
    "\t. \"github.com/FactomProject/ptnet-eventstore/ptnet\"\n",
    "\t\"github.com/FactomProject/ptnet-eventstore/x\"\n",
    ")"
   ]
  },
  {
   "cell_type": "code",
   "execution_count": 2,
   "metadata": {},
   "outputs": [],
   "source": [
    "// the state machine definition composes the rules of the contract\n",
    "// machine must be designed to always end in a halting state\n",
    "// this protocol requires the machine to be halted before tokens are released\n",
    "//\n",
    "// NOTE:\n",
    "// this type of state machine classified as a https://en.wikipedia.org/wiki/Vector_addition_system\n",
    "// and can also be represented graphically as a https://en.wikipedia.org/wiki/Petri_net\n",
    "m := Machine{\n",
    "    // define the inital state - a nice convention follow\n",
    "    // is to set each variable to the max possible value\n",
    "    // that can be achieved during valid contract execution\n",
    "    // in this contract no value ever exceeds 1\n",
    "\t//                   00 01 02 10 11 12 20 21 22 O  X $O $X $DEP\n",
    "\tInitial: StateVector{1, 1, 1, 1, 1, 1, 1, 1, 1, 1, 1, 1, 1, 1},\n",
    "\n",
    "\tTransitions: map[string]Transition{\n",
    "        // each transition defines its effect \n",
    "        // on every offset 'variable' declared in the state vector\n",
    "        //\n",
    "        // NOTE: this is mathematical vector addition at work\n",
    "        // each vector is 'executed' by adding it to the preceding state\n",
    "\t\t//                00 01 02 10 11 12 20 21 22  O  X $O $X $DEP\n",
    "        // by convention a contract must have a BEGIN/\"EXEC\" transaction\n",
    "        // this action is executed when the contract is first offered\n",
    "\t\tBEGIN: Transition{0, 0, 0, 0, 0, 0, 0, 0, 0, -1, 0, -1, -1, -1},\n",
    "        // moves for player X\n",
    "\t\t\"X00\": Transition{-1, 0, 0, 0, 0, 0, 0, 0, 0, 1, -1, 0, 0, 0},\n",
    "\t\t\"X01\": Transition{0, -1, 0, 0, 0, 0, 0, 0, 0, 1, -1, 0, 0, 0},\n",
    "\t\t\"X02\": Transition{0, 0, -1, 0, 0, 0, 0, 0, 0, 1, -1, 0, 0, 0},\n",
    "\t\t\"X10\": Transition{0, 0, 0, -1, 0, 0, 0, 0, 0, 1, -1, 0, 0, 0},\n",
    "\t\t\"X11\": Transition{0, 0, 0, 0, -1, 0, 0, 0, 0, 1, -1, 0, 0, 0},\n",
    "\t\t\"X12\": Transition{0, 0, 0, 0, 0, -1, 0, 0, 0, 1, -1, 0, 0, 0},\n",
    "\t\t\"X20\": Transition{0, 0, 0, 0, 0, 0, -1, 0, 0, 1, -1, 0, 0, 0},\n",
    "\t\t\"X21\": Transition{0, 0, 0, 0, 0, 0, 0, -1, 0, 1, -1, 0, 0, 0},\n",
    "\t\t\"X22\": Transition{0, 0, 0, 0, 0, 0, 0, 0, -1, 1, -1, 0, 0, 0},\n",
    "        // moves for player O\n",
    "\t\t\"O00\": Transition{-1, 0, 0, 0, 0, 0, 0, 0, 0, -1, 1, 0, 0, 0},\n",
    "\t\t\"O01\": Transition{0, -1, 0, 0, 0, 0, 0, 0, 0, -1, 1, 0, 0, 0},\n",
    "\t\t\"O02\": Transition{0, 0, -1, 0, 0, 0, 0, 0, 0, -1, 1, 0, 0, 0},\n",
    "\t\t\"O10\": Transition{0, 0, 0, -1, 0, 0, 0, 0, 0, -1, 1, 0, 0, 0},\n",
    "\t\t\"O11\": Transition{0, 0, 0, 0, -1, 0, 0, 0, 0, -1, 1, 0, 0, 0},\n",
    "\t\t\"O12\": Transition{0, 0, 0, 0, 0, -1, 0, 0, 0, -1, 1, 0, 0, 0},\n",
    "\t\t\"O20\": Transition{0, 0, 0, 0, 0, 0, -1, 0, 0, -1, 1, 0, 0, 0},\n",
    "\t\t\"O21\": Transition{0, 0, 0, 0, 0, 0, 0, -1, 0, -1, 1, 0, 0, 0},\n",
    "\t\t\"O22\": Transition{0, 0, 0, 0, 0, 0, 0, 0, -1, -1, 1, 0, 0, 0},\n",
    "\n",
    "        // moves that halt game and unlock tokens for winner\n",
    "        // or refund to the depositor\n",
    "\t\t\"WINX\": Transition{0, 0, 0, 0, 0, 0, 0, 0, 0, -1, 0, 0, 1, 0},\n",
    "\t\t\"WINO\": Transition{0, 0, 0, 0, 0, 0, 0, 0, 0, 0, -1, 1, 0, 0},\n",
    "\t\t\"ENDX\": Transition{0, 0, 0, 0, 0, 0, 0, 0, 0, 0, -1, 0, 0, 1},\n",
    "\t\t\"ENDO\": Transition{0, 0, 0, 0, 0, 0, 0, 0, 0, -1, 0, 0, 0, 1},\n",
    "\t},\n",
    "}"
   ]
  },
  {
   "cell_type": "code",
   "execution_count": 3,
   "metadata": {},
   "outputs": [],
   "source": [
    "// contract declaration adds more rules in addition to the state machine\n",
    "gameContract := Declaration{\n",
    "    // inputs are similar to most cryptocurrency rules\n",
    "    // and represent a type of 'pay-to-script' functionality\n",
    "    // tokens are lock away in the contract until the blockheight is exceeded (invalid/fault)\n",
    "    // or the contract halts (valid completion)\n",
    "\tInputs: []AddressAmountMap{\n",
    "\t\tAddressAmountMap{Address[DEPOSITOR], 1}, // deposit 1 token\n",
    "\t},\n",
    "    // outputs are referenced by Guards and Conditions\n",
    "    // and are used as an Access Control List (ACL)\n",
    "    // to define roles of users that are allowed to interact\n",
    "    // with the contract in addition to defining which users\n",
    "    // can withdraw tokens from a completed/halted contract\n",
    "\tOutputs: []AddressAmountMap{ // array of possible redeemers\n",
    "\t\tAddressAmountMap{Address[DEPOSITOR], 1},\n",
    "\t\tAddressAmountMap{Address[PLAYERX], 1},\n",
    "\t\tAddressAmountMap{Address[PLAYERO], 1},\n",
    "\t},\n",
    "\tBlockHeight: 60221409,      // deadline to achieve halting state\n",
    "\tSalt:        \"|RANDOM|\",    // random salt\n",
    "\tContractID:  \"|OctoeContractID|\",// unique ID for this contract instance\n",
    "\tSchema:      \"octoe-v1\",    // versioned contract schema\n",
    "\tState:       m.Initial,     // state machine initial state\n",
    "\tActions:     m.Transitions, // state machine defined transitions\n",
    "\tGuards: []Condition{ // guards restrict state machine actions\n",
    "\t\t//       00 01 02 10 11 12 20 21 22  O  X $O $X $DEP\n",
    "\t\tCondition{0, 0, 0, 0, 0, 0, 0, 0, 0, 0, 0, 0, 0, 0}, // Admin/Depositor\n",
    "\t\tCondition{0, 0, 0, 0, 0, 0, 0, 0, 0, 0, -1, 0, 0, 0},// PlayerX turn\n",
    "\t\tCondition{0, 0, 0, 0, 0, 0, 0, 0, 0, -1, 0, 0, 0, 0},// PlayerO turn\n",
    "\t},\n",
    "\tConditions: []Condition{ // redeem conditions to unlock input tokens\n",
    "\t\t//       00 01 02 10 11 12 20 21 22  O  X $O $X $DEP\n",
    "\t\tCondition{0, 0, 0, 0, 0, 0, 0, 0, 0, 0, 0, 0, 0, -1},// no win/refund deposit\n",
    "\t\tCondition{0, 0, 0, 0, 0, 0, 0, 0, 0, 0, 0, 0, -1, 0},// X win\n",
    "\t\tCondition{0, 0, 0, 0, 0, 0, 0, 0, 0, 0, 0, -1, 0, 0},// O win \n",
    "\t},\n",
    "}"
   ]
  },
  {
   "cell_type": "code",
   "execution_count": 4,
   "metadata": {},
   "outputs": [],
   "source": [
    "// use declaration to construct an offer\n",
    "// this is a data wrapper that is used to isolate transaction ops from declaration ops\n",
    "// NOTE: mostly this is just an artifact of this implementation not especially meaningful\n",
    "offer := finite.Offer{\n",
    "\tDeclaration: gameContract,\n",
    "}"
   ]
  },
  {
   "cell_type": "code",
   "execution_count": 5,
   "metadata": {},
   "outputs": [
    {
     "data": {
      "text/plain": [
       "[|OctoeContractID| octoe-v1 60221409]"
      ]
     },
     "execution_count": 5,
     "metadata": {},
     "output_type": "execute_result"
    }
   ],
   "source": [
    "[]interface{}{gameContract.ContractID, gameContract.Schema, gameContract.BlockHeight}"
   ]
  },
  {
   "cell_type": "code",
   "execution_count": 6,
   "metadata": {},
   "outputs": [
    {
     "data": {
      "text/plain": [
       "false"
      ]
     },
     "execution_count": 6,
     "metadata": {},
     "output_type": "execute_result"
    }
   ],
   "source": [
    "// check to see if contract has been recorded yet (it hasn't)\n",
    "Exists(gameContract.Schema, gameContract.ContractID)"
   ]
  },
  {
   "cell_type": "code",
   "execution_count": 7,
   "metadata": {},
   "outputs": [
    {
     "data": {
      "text/plain": [
       "[EXEC [1 1 1 1 1 1 1 1 1 1 1 1 1 1] => [1 1 1 1 1 1 1 1 1 0 1 0 0 0]]"
      ]
     },
     "execution_count": 7,
     "metadata": {},
     "output_type": "execute_result"
    }
   ],
   "source": [
    "// to begin contract execution an - offer transaction is made\n",
    "// by convention the initial state should be set to the upper bound\n",
    "// for all the variables used by the contract\n",
    "// in this contract no variable is ever > 1\n",
    "//\n",
    "// NOTE by design - the state machine reports any output values < 0 as invalid\n",
    "// see: https://en.wikipedia.org/wiki/Vector_addition_system for more details\n",
    "txn := finite.OfferTransaction(offer, Private[DEPOSITOR])\n",
    "[]interface{}{txn.Action, txn.InputState, \"=>\", txn.OutputState}"
   ]
  },
  {
   "cell_type": "code",
   "execution_count": 8,
   "metadata": {},
   "outputs": [
    {
     "data": {
      "text/plain": [
       "true"
      ]
     },
     "execution_count": 8,
     "metadata": {},
     "output_type": "execute_result"
    }
   ],
   "source": [
    "// check to see if our contract has been recorded\n",
    "Exists(gameContract.Schema, gameContract.ContractID)"
   ]
  },
  {
   "cell_type": "code",
   "execution_count": 9,
   "metadata": {},
   "outputs": [
    {
     "data": {
      "text/plain": [
       "false"
      ]
     },
     "execution_count": 9,
     "metadata": {},
     "output_type": "execute_result"
    }
   ],
   "source": [
    "// show that contract is still open\n",
    "IsHalted(gameContract)"
   ]
  },
  {
   "cell_type": "code",
   "execution_count": 10,
   "metadata": {},
   "outputs": [
    {
     "data": {
      "text/plain": [
       "false"
      ]
     },
     "execution_count": 10,
     "metadata": {},
     "output_type": "execute_result"
    }
   ],
   "source": [
    "// show that tokens are locked\n",
    "// even original depositor cannot withdraw tokens\n",
    "CanRedeem(gameContract, Public[DEPOSITOR])"
   ]
  },
  {
   "cell_type": "code",
   "execution_count": 11,
   "metadata": {},
   "outputs": [],
   "source": [
    "// Helper function to make it easier to compose transactions in this example\n",
    "func commit(action string, key PrivateKey, payload []byte) (finite.Transaction, error) {\n",
    "\tpub := PublicKey{}\n",
    "\tcopy(pub[:], x.PrivateKeyToPub(key[:])) // get public key\n",
    "\treturn finite.ExecuteTransaction(finite.Execution{\n",
    "\t\tCommand: Command{\n",
    "\t\t\tChainID:    CHAIN_ID,// which chain to add entry\n",
    "\t\t\tContractID: \"|OctoeContractID|\",\n",
    "\t\t\tSchema:     OctoeV1, // state machine version\n",
    "\t\t\tAction:     action,  // state machine action\n",
    "\t\t\tAmount:     1,       // triggers input action 'n' times amount\n",
    "\t\t\tPayload:    payload, // arbitrary data optionally included\n",
    "\t\t\tPubkey:     pub,     // must match key in contract declaration\n",
    "\t\t},\n",
    "\t}, key)\n",
    "}"
   ]
  },
  {
   "cell_type": "code",
   "execution_count": 12,
   "metadata": {},
   "outputs": [
    {
     "data": {
      "text/plain": [
       "[X11 [1 1 1 1 1 1 1 1 1 0 1 0 0 0] => [1 1 1 1 0 1 1 1 1 1 0 0 0 0]]"
      ]
     },
     "execution_count": 12,
     "metadata": {},
     "output_type": "execute_result"
    }
   ],
   "source": [
    "// an event with an arbitrary payload attached\n",
    "// on-chain it is expected that this payload is used to attach\n",
    "// additional supporting data or evidence that \n",
    "// an action is being executed according to the intent of the contract\n",
    "payload, _ := json.Marshal([]string{\"hello\", \"world\"})\n",
    "event1, _ := commit(\"X11\", Private[PLAYERX], payload)\n",
    "\n",
    "[]interface{}{event1.Action, event1.InputState, \"=>\", event1.OutputState}"
   ]
  },
  {
   "cell_type": "code",
   "execution_count": 13,
   "metadata": {},
   "outputs": [
    {
     "data": {
      "text/plain": [
       "[X00 [1 1 1 1 0 1 1 1 1 1 0 0 0 0] => invalid output: -1 offset: 10]"
      ]
     },
     "execution_count": 13,
     "metadata": {},
     "output_type": "execute_result"
    }
   ],
   "source": [
    "// show an invalid move\n",
    "// according to this state machine players must take turns\n",
    "event2, err := commit(\"X00\", Private[PLAYERX], nil)\n",
    "[]interface{}{event2.Action, event2.InputState, \"=>\", err}"
   ]
  },
  {
   "cell_type": "code",
   "execution_count": 14,
   "metadata": {},
   "outputs": [
    {
     "data": {
      "text/plain": [
       "[O01 [1 1 1 1 0 1 1 1 1 1 0 0 0 0] => failed guard condition]"
      ]
     },
     "execution_count": 14,
     "metadata": {},
     "output_type": "execute_result"
    }
   ],
   "source": [
    "// another invalid move - here we try to sign with an incorrect key\n",
    "// contract makes players sign each event\n",
    "event3, err := commit(\"O01\", Private[PLAYERX], nil)\n",
    "\n",
    "[]interface{}{event3.Action, event3.InputState, \"=>\", err}"
   ]
  },
  {
   "cell_type": "code",
   "execution_count": 15,
   "metadata": {},
   "outputs": [
    {
     "data": {
      "text/plain": [
       "[O01 [1 1 1 1 0 1 1 1 1 1 0 0 0 0] => [1 0 1 1 0 1 1 1 1 0 1 0 0 0]]"
      ]
     },
     "execution_count": 15,
     "metadata": {},
     "output_type": "execute_result"
    }
   ],
   "source": [
    "// valid\n",
    "event4, err := commit(\"O01\", Private[PLAYERO], nil)\n",
    "\n",
    "[]interface{}{event4.Action, event4.InputState, \"=>\", event4.OutputState}"
   ]
  },
  {
   "cell_type": "code",
   "execution_count": 16,
   "metadata": {},
   "outputs": [
    {
     "data": {
      "text/plain": [
       "[X11 [1 0 1 1 0 1 1 1 1 0 1 0 0 0] => invalid output: -1 offset: 4]"
      ]
     },
     "execution_count": 16,
     "metadata": {},
     "output_type": "execute_result"
    }
   ],
   "source": [
    "// invalid - state machine ensures move is used only once\n",
    "// move X11 is already taken as seen above\n",
    "event5, err := commit(\"X11\", Private[PLAYERX], nil)\n",
    "\n",
    "[]interface{}{event5.Action, event5.InputState, \"=>\", err}"
   ]
  },
  {
   "cell_type": "code",
   "execution_count": 17,
   "metadata": {},
   "outputs": [
    {
     "data": {
      "text/plain": [
       "[X00 [1 0 1 1 0 1 1 1 1 0 1 0 0 0] => [0 0 1 1 0 1 1 1 1 1 0 0 0 0]]"
      ]
     },
     "execution_count": 17,
     "metadata": {},
     "output_type": "execute_result"
    }
   ],
   "source": [
    "// valid\n",
    "event6, err := commit(\"X00\", Private[PLAYERX], nil)\n",
    "\n",
    "[]interface{}{event6.Action, event6.InputState, \"=>\", event6.OutputState}"
   ]
  },
  {
   "cell_type": "code",
   "execution_count": 18,
   "metadata": {},
   "outputs": [
    {
     "data": {
      "text/plain": [
       "[O02 [0 0 1 1 0 1 1 1 1 1 0 0 0 0] => [0 0 0 1 0 1 1 1 1 0 1 0 0 0]]"
      ]
     },
     "execution_count": 18,
     "metadata": {},
     "output_type": "execute_result"
    }
   ],
   "source": [
    "// valid\n",
    "event7, err := commit(\"O02\", Private[PLAYERO], nil)\n",
    "\n",
    "[]interface{}{event7.Action, event7.InputState, \"=>\", event7.OutputState}"
   ]
  },
  {
   "cell_type": "code",
   "execution_count": 19,
   "metadata": {},
   "outputs": [
    {
     "data": {
      "text/plain": [
       "[X22 [0 0 0 1 0 1 1 1 1 0 1 0 0 0] => [0 0 0 1 0 1 1 1 0 1 0 0 0 0]]"
      ]
     },
     "execution_count": 19,
     "metadata": {},
     "output_type": "execute_result"
    }
   ],
   "source": [
    "// valid\n",
    "event8, err := commit(\"X22\", Private[PLAYERX], nil)\n",
    "\n",
    "[]interface{}{event8.Action, event8.InputState, \"=>\", event8.OutputState}"
   ]
  },
  {
   "cell_type": "code",
   "execution_count": 20,
   "metadata": {},
   "outputs": [
    {
     "data": {
      "text/plain": [
       "[WINX [0 0 0 1 0 1 1 1 0 1 0 0 0 0] => [0 0 0 1 0 1 1 1 0 0 0 0 1 0]]"
      ]
     },
     "execution_count": 20,
     "metadata": {},
     "output_type": "execute_result"
    }
   ],
   "source": [
    "// game is over\n",
    "// contract depositor confirms the winner\n",
    "// this halts the state machine thereby unlocking the deposited tokens\n",
    "event9, err := commit(\"WINX\", Private[DEPOSITOR], nil)\n",
    "\n",
    "[]interface{}{event9.Action, event9.InputState, \"=>\", event9.OutputState}"
   ]
  },
  {
   "cell_type": "code",
   "execution_count": 21,
   "metadata": {},
   "outputs": [
    {
     "data": {
      "text/plain": [
       "true"
      ]
     },
     "execution_count": 21,
     "metadata": {},
     "output_type": "execute_result"
    }
   ],
   "source": [
    "// contract is only redeemable after halting\n",
    "IsHalted(gameContract)"
   ]
  },
  {
   "cell_type": "code",
   "execution_count": 22,
   "metadata": {},
   "outputs": [
    {
     "data": {
      "text/plain": [
       "true"
      ]
     },
     "execution_count": 22,
     "metadata": {},
     "output_type": "execute_result"
    }
   ],
   "source": [
    "// only the winner can redeem the deposit\n",
    "CanRedeem(gameContract, Public[PLAYERX])"
   ]
  },
  {
   "cell_type": "code",
   "execution_count": 23,
   "metadata": {},
   "outputs": [
    {
     "data": {
      "text/plain": [
       "false"
      ]
     },
     "execution_count": 23,
     "metadata": {},
     "output_type": "execute_result"
    }
   ],
   "source": [
    "// loser has no claim\n",
    "CanRedeem(gameContract, Public[PLAYERO])"
   ]
  }
 ],
 "metadata": {
  "kernelspec": {
   "display_name": "Go",
   "language": "go",
   "name": "gophernotes"
  },
  "language_info": {
   "codemirror_mode": "",
   "file_extension": ".go",
   "mimetype": "",
   "name": "go",
   "nbconvert_exporter": "",
   "pygments_lexer": "",
   "version": "go1.11.1"
  }
 },
 "nbformat": 4,
 "nbformat_minor": 2
}
