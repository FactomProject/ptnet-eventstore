{
 "cells": [
  {
   "cell_type": "code",
   "execution_count": 1,
   "metadata": {},
   "outputs": [],
   "source": [
    "import (\n",
    "\t\"encoding/json\"\n",
    "    . \"github.com/FactomProject/ptnet-eventstore/contract\"\n",
    "\t\"github.com/FactomProject/ptnet-eventstore/finite\"\n",
    "\t. \"github.com/FactomProject/ptnet-eventstore/identity\"\n",
    "\t. \"github.com/FactomProject/ptnet-eventstore/ptnet\"\n",
    "\t\"github.com/FactomProject/ptnet-eventstore/x\"\n",
    ")"
   ]
  },
  {
   "cell_type": "code",
   "execution_count": 2,
   "metadata": {},
   "outputs": [],
   "source": [
    "m := Machine{\n",
    "\t//                   00 01 02 10 11 12 20 21 22 O  X $O $X $DEP\n",
    "\tInitial: StateVector{1, 1, 1, 1, 1, 1, 1, 1, 1, 1, 1, 1, 1, 1},\n",
    "\n",
    "\tTransitions: map[string]Transition{\n",
    "\n",
    "\t\t//                00 01 02 10 11 12 20 21 22  O  X $O $X $DEP\n",
    "\t\tBEGIN: Transition{0, 0, 0, 0, 0, 0, 0, 0, 0, -1, 0, -1, -1, -1},\n",
    "\n",
    "\t\t\"X00\": Transition{-1, 0, 0, 0, 0, 0, 0, 0, 0, 1, -1, 0, 0, 0},\n",
    "\t\t\"X01\": Transition{0, -1, 0, 0, 0, 0, 0, 0, 0, 1, -1, 0, 0, 0},\n",
    "\t\t\"X02\": Transition{0, 0, -1, 0, 0, 0, 0, 0, 0, 1, -1, 0, 0, 0},\n",
    "\t\t\"X10\": Transition{0, 0, 0, -1, 0, 0, 0, 0, 0, 1, -1, 0, 0, 0},\n",
    "\t\t\"X11\": Transition{0, 0, 0, 0, -1, 0, 0, 0, 0, 1, -1, 0, 0, 0},\n",
    "\t\t\"X12\": Transition{0, 0, 0, 0, 0, -1, 0, 0, 0, 1, -1, 0, 0, 0},\n",
    "\t\t\"X20\": Transition{0, 0, 0, 0, 0, 0, -1, 0, 0, 1, -1, 0, 0, 0},\n",
    "\t\t\"X21\": Transition{0, 0, 0, 0, 0, 0, 0, -1, 0, 1, -1, 0, 0, 0},\n",
    "\t\t\"X22\": Transition{0, 0, 0, 0, 0, 0, 0, 0, -1, 1, -1, 0, 0, 0},\n",
    "\n",
    "\t\t\"O00\": Transition{-1, 0, 0, 0, 0, 0, 0, 0, 0, -1, 1, 0, 0, 0},\n",
    "\t\t\"O01\": Transition{0, -1, 0, 0, 0, 0, 0, 0, 0, -1, 1, 0, 0, 0},\n",
    "\t\t\"O02\": Transition{0, 0, -1, 0, 0, 0, 0, 0, 0, -1, 1, 0, 0, 0},\n",
    "\t\t\"O10\": Transition{0, 0, 0, -1, 0, 0, 0, 0, 0, -1, 1, 0, 0, 0},\n",
    "\t\t\"O11\": Transition{0, 0, 0, 0, -1, 0, 0, 0, 0, -1, 1, 0, 0, 0},\n",
    "\t\t\"O12\": Transition{0, 0, 0, 0, 0, -1, 0, 0, 0, -1, 1, 0, 0, 0},\n",
    "\t\t\"O20\": Transition{0, 0, 0, 0, 0, 0, -1, 0, 0, -1, 1, 0, 0, 0},\n",
    "\t\t\"O21\": Transition{0, 0, 0, 0, 0, 0, 0, -1, 0, -1, 1, 0, 0, 0},\n",
    "\t\t\"O22\": Transition{0, 0, 0, 0, 0, 0, 0, 0, -1, -1, 1, 0, 0, 0},\n",
    "\n",
    "\t\t\"WINX\": Transition{0, 0, 0, 0, 0, 0, 0, 0, 0, -1, 0, 0, 1, 0}, // Depositor acts as judge\n",
    "\t\t\"WINO\": Transition{0, 0, 0, 0, 0, 0, 0, 0, 0, 0, -1, 1, 0, 0},\n",
    "\t\t\"ENDX\": Transition{0, 0, 0, 0, 0, 0, 0, 0, 0, 0, -1, 0, 0, 1},\n",
    "\t\t\"ENDO\": Transition{0, 0, 0, 0, 0, 0, 0, 0, 0, -1, 0, 0, 0, 1},\n",
    "\t},\n",
    "}"
   ]
  },
  {
   "cell_type": "code",
   "execution_count": 3,
   "metadata": {},
   "outputs": [],
   "source": [
    "gameContract := Declaration{ // array of inputs/outputs also referenced by guards and conditions\n",
    "\tInputs: []AddressAmountMap{ // array of input depositors\n",
    "\t\tAddressAmountMap{Address[DEPOSITOR], 1},\n",
    "\t},\n",
    "\tOutputs: []AddressAmountMap{ // array of possible redeemers\n",
    "\t\tAddressAmountMap{Address[DEPOSITOR], 1},\n",
    "\t\tAddressAmountMap{Address[PLAYERX], 1},\n",
    "\t\tAddressAmountMap{Address[PLAYERO], 1},\n",
    "\t},\n",
    "\tBlockHeight: 60221409,      // deadline for halting state\n",
    "\tSalt:        \"|RANDOM|\",    // added random salt\n",
    "\tContractID:  \"|OctoeContractID|\",   // unique ID for this contract instance\n",
    "\tSchema:      \"octoe-v1\",    // versioned contract schema\n",
    "\tState:       m.Initial,     // state machine initial state\n",
    "\tActions:     m.Transitions, // state machine defined transitions\n",
    "\tGuards: []Condition{ // guard clause restricts actions\n",
    "\t\t//       00 01 02 10 11 12 20 21 22  O  X $O $X $DEP // variable labels\n",
    "\t\tCondition{0, 0, 0, 0, 0, 0, 0, 0, 0, 0, 0, 0, 0, 0},  // Admin - 'contract owner' can take action at any time\n",
    "\t\tCondition{0, 0, 0, 0, 0, 0, 0, 0, 0, 0, -1, 0, 0, 0}, // PlayerX - players must move only when it's their turn\n",
    "\t\tCondition{0, 0, 0, 0, 0, 0, 0, 0, 0, -1, 0, 0, 0, 0}, // PlayerO\n",
    "\t},\n",
    "\tConditions: []Condition{ // contract conditions specify additional redeem conditions\n",
    "\t\t//       00 01 02 10 11 12 20 21 22  O  X $O $X $DEP  // variable labels\n",
    "\t\tCondition{0, 0, 0, 0, 0, 0, 0, 0, 0, 0, 0, 0, 0, -1}, // game ended without winner tokens are unlocked for original depositor\n",
    "\t\tCondition{0, 0, 0, 0, 0, 0, 0, 0, 0, 0, 0, 0, -1, 0}, // game ended PlayerX wins\n",
    "\t\tCondition{0, 0, 0, 0, 0, 0, 0, 0, 0, 0, 0, -1, 0, 0}, // game ended PlayerO wins\n",
    "\t},\n",
    "}"
   ]
  },
  {
   "cell_type": "code",
   "execution_count": 4,
   "metadata": {},
   "outputs": [],
   "source": [
    "offer := finite.Offer{\n",
    "\tDeclaration: gameContract,\n",
    "}"
   ]
  },
  {
   "cell_type": "code",
   "execution_count": 5,
   "metadata": {},
   "outputs": [
    {
     "data": {
      "text/plain": [
       "[|OctoeContractID| octoe-v1 60221409]"
      ]
     },
     "execution_count": 5,
     "metadata": {},
     "output_type": "execute_result"
    }
   ],
   "source": [
    "[]interface{}{gameContract.ContractID, gameContract.Schema, gameContract.BlockHeight}"
   ]
  },
  {
   "cell_type": "code",
   "execution_count": 6,
   "metadata": {},
   "outputs": [
    {
     "data": {
      "text/plain": [
       "false"
      ]
     },
     "execution_count": 6,
     "metadata": {},
     "output_type": "execute_result"
    }
   ],
   "source": [
    "Exists(gameContract.Schema, gameContract.ContractID)"
   ]
  },
  {
   "cell_type": "code",
   "execution_count": 7,
   "metadata": {},
   "outputs": [
    {
     "data": {
      "text/plain": [
       "[EXEC [1 1 1 1 1 1 1 1 1 1 1 1 1 1] => [1 1 1 1 1 1 1 1 1 0 1 0 0 0]]"
      ]
     },
     "execution_count": 7,
     "metadata": {},
     "output_type": "execute_result"
    }
   ],
   "source": [
    "txn := finite.OfferTransaction(offer, Private[DEPOSITOR])\n",
    "[]interface{}{txn.Action, txn.InputState, \"=>\", txn.OutputState}"
   ]
  },
  {
   "cell_type": "code",
   "execution_count": 8,
   "metadata": {},
   "outputs": [
    {
     "ename": "ERROR",
     "evalue": "repl.go:1:29: undefined identifier: optionContract",
     "output_type": "error",
     "traceback": [
      "repl.go:1:29: undefined identifier: optionContract"
     ]
    }
   ],
   "source": [
    "Exists(gameContract.Schema, optionContract.ContractID)"
   ]
  },
  {
   "cell_type": "code",
   "execution_count": 9,
   "metadata": {},
   "outputs": [
    {
     "data": {
      "text/plain": [
       "false"
      ]
     },
     "execution_count": 9,
     "metadata": {},
     "output_type": "execute_result"
    }
   ],
   "source": [
    "IsHalted(gameContract)"
   ]
  },
  {
   "cell_type": "code",
   "execution_count": 10,
   "metadata": {},
   "outputs": [
    {
     "data": {
      "text/plain": [
       "false"
      ]
     },
     "execution_count": 10,
     "metadata": {},
     "output_type": "execute_result"
    }
   ],
   "source": [
    "CanRedeem(gameContract, Public[DEPOSITOR])"
   ]
  },
  {
   "cell_type": "code",
   "execution_count": 11,
   "metadata": {},
   "outputs": [],
   "source": [
    "func commit(action string, key PrivateKey, payload []byte) (finite.Transaction, error) {\n",
    "\tpub := PublicKey{}\n",
    "\tcopy(pub[:], x.PrivateKeyToPub(key[:]))\n",
    "\treturn finite.ExecuteTransaction(finite.Execution{\n",
    "\t\tCommand: Command{\n",
    "\t\t\tChainID:    CHAIN_ID, // test values\n",
    "\t\t\tContractID: \"|OctoeContractID|\",\n",
    "\t\t\tSchema:     OctoeV1, // state machine version\n",
    "\t\t\tAction:     action,   // state machine action\n",
    "\t\t\tAmount:     1,        // triggers input action 'n' times\n",
    "\t\t\tPayload:    payload,      // arbitrary data optionally included\n",
    "\t\t\tPubkey:     pub,\n",
    "\t\t},\n",
    "\t}, key)\n",
    "}"
   ]
  },
  {
   "cell_type": "code",
   "execution_count": 12,
   "metadata": {},
   "outputs": [
    {
     "data": {
      "text/plain": [
       "[X11 [1 1 1 1 1 1 1 1 1 0 1 0 0 0] => [1 1 1 1 0 1 1 1 1 1 0 0 0 0]]"
      ]
     },
     "execution_count": 12,
     "metadata": {},
     "output_type": "execute_result"
    }
   ],
   "source": [
    "payload, _ := json.Marshal([]string{\"hello\", \"world\"})\n",
    "event1, _ := commit(\"X11\", Private[PLAYERX], payload)\n",
    "\n",
    "[]interface{}{event1.Action, event1.InputState, \"=>\", event1.OutputState}"
   ]
  },
  {
   "cell_type": "code",
   "execution_count": 13,
   "metadata": {},
   "outputs": [
    {
     "data": {
      "text/plain": [
       "[X00 [1 1 1 1 0 1 1 1 1 1 0 0 0 0] => invalid output: -1 offset: 10]"
      ]
     },
     "execution_count": 13,
     "metadata": {},
     "output_type": "execute_result"
    }
   ],
   "source": [
    "// state machine makes players take turns\n",
    "event2, err := commit(\"X00\", Private[PLAYERX], nil)\n",
    "[]interface{}{event2.Action, event2.InputState, \"=>\", err}"
   ]
  },
  {
   "cell_type": "code",
   "execution_count": 14,
   "metadata": {},
   "outputs": [
    {
     "data": {
      "text/plain": [
       "[O01 [1 1 1 1 0 1 1 1 1 1 0 0 0 0] => failed guard condition]"
      ]
     },
     "execution_count": 14,
     "metadata": {},
     "output_type": "execute_result"
    }
   ],
   "source": [
    "// contract makes players sign each event - here we try to sign with an incorrect key\n",
    "event3, err := commit(\"O01\", Private[PLAYERX], nil)\n",
    "\n",
    "[]interface{}{event3.Action, event3.InputState, \"=>\", err}"
   ]
  },
  {
   "cell_type": "code",
   "execution_count": 15,
   "metadata": {},
   "outputs": [
    {
     "data": {
      "text/plain": [
       "[O01 [1 1 1 1 0 1 1 1 1 1 0 0 0 0] => [1 0 1 1 0 1 1 1 1 0 1 0 0 0]]"
      ]
     },
     "execution_count": 15,
     "metadata": {},
     "output_type": "execute_result"
    }
   ],
   "source": [
    "event4, err := commit(\"O01\", Private[PLAYERO], nil)\n",
    "\n",
    "[]interface{}{event4.Action, event4.InputState, \"=>\", event4.OutputState}"
   ]
  },
  {
   "cell_type": "code",
   "execution_count": 16,
   "metadata": {},
   "outputs": [
    {
     "data": {
      "text/plain": [
       "[X11 [1 0 1 1 0 1 1 1 1 0 1 0 0 0] => invalid output: -1 offset: 4]"
      ]
     },
     "execution_count": 16,
     "metadata": {},
     "output_type": "execute_result"
    }
   ],
   "source": [
    "// state machine ensures move is used only once\n",
    "event5, err := commit(\"X11\", Private[PLAYERX], nil)\n",
    "\n",
    "[]interface{}{event5.Action, event5.InputState, \"=>\", err}"
   ]
  },
  {
   "cell_type": "code",
   "execution_count": 17,
   "metadata": {},
   "outputs": [
    {
     "data": {
      "text/plain": [
       "[X00 [1 0 1 1 0 1 1 1 1 0 1 0 0 0] => [0 0 1 1 0 1 1 1 1 1 0 0 0 0]]"
      ]
     },
     "execution_count": 17,
     "metadata": {},
     "output_type": "execute_result"
    }
   ],
   "source": [
    "event6, err := commit(\"X00\", Private[PLAYERX], nil)\n",
    "\n",
    "[]interface{}{event6.Action, event6.InputState, \"=>\", event6.OutputState}"
   ]
  },
  {
   "cell_type": "code",
   "execution_count": 18,
   "metadata": {},
   "outputs": [
    {
     "data": {
      "text/plain": [
       "[O02 [0 0 1 1 0 1 1 1 1 1 0 0 0 0] => [0 0 0 1 0 1 1 1 1 0 1 0 0 0]]"
      ]
     },
     "execution_count": 18,
     "metadata": {},
     "output_type": "execute_result"
    }
   ],
   "source": [
    "event7, err := commit(\"O02\", Private[PLAYERO], nil)\n",
    "\n",
    "[]interface{}{event7.Action, event7.InputState, \"=>\", event7.OutputState}"
   ]
  },
  {
   "cell_type": "code",
   "execution_count": 19,
   "metadata": {},
   "outputs": [
    {
     "data": {
      "text/plain": [
       "[X22 [0 0 0 1 0 1 1 1 1 0 1 0 0 0] => [0 0 0 1 0 1 1 1 0 1 0 0 0 0]]"
      ]
     },
     "execution_count": 19,
     "metadata": {},
     "output_type": "execute_result"
    }
   ],
   "source": [
    "event8, err := commit(\"X22\", Private[PLAYERX], nil)\n",
    "\n",
    "[]interface{}{event8.Action, event8.InputState, \"=>\", event8.OutputState}"
   ]
  },
  {
   "cell_type": "code",
   "execution_count": 20,
   "metadata": {},
   "outputs": [
    {
     "data": {
      "text/plain": [
       "[WINX [0 0 0 1 0 1 1 1 0 1 0 0 0 0] => [0 0 0 1 0 1 1 1 0 0 0 0 1 0]]"
      ]
     },
     "execution_count": 20,
     "metadata": {},
     "output_type": "execute_result"
    }
   ],
   "source": [
    "// contract depositor confirms the winner\n",
    "event9, err := commit(\"WINX\", Private[DEPOSITOR], nil)\n",
    "\n",
    "[]interface{}{event9.Action, event9.InputState, \"=>\", event9.OutputState}"
   ]
  },
  {
   "cell_type": "code",
   "execution_count": 21,
   "metadata": {},
   "outputs": [
    {
     "data": {
      "text/plain": [
       "true"
      ]
     },
     "execution_count": 21,
     "metadata": {},
     "output_type": "execute_result"
    }
   ],
   "source": [
    "// contract is only Redeemable after Halting\n",
    "IsHalted(gameContract)"
   ]
  },
  {
   "cell_type": "code",
   "execution_count": 22,
   "metadata": {},
   "outputs": [
    {
     "data": {
      "text/plain": [
       "true"
      ]
     },
     "execution_count": 22,
     "metadata": {},
     "output_type": "execute_result"
    }
   ],
   "source": [
    "// only the winner can redeem\n",
    "CanRedeem(gameContract, Public[PLAYERX])"
   ]
  },
  {
   "cell_type": "code",
   "execution_count": 23,
   "metadata": {},
   "outputs": [
    {
     "data": {
      "text/plain": [
       "false"
      ]
     },
     "execution_count": 23,
     "metadata": {},
     "output_type": "execute_result"
    }
   ],
   "source": [
    "CanRedeem(gameContract, Public[PLAYERO])"
   ]
  }
 ],
 "metadata": {
  "kernelspec": {
   "display_name": "Go",
   "language": "go",
   "name": "gophernotes"
  },
  "language_info": {
   "codemirror_mode": "",
   "file_extension": ".go",
   "mimetype": "",
   "name": "go",
   "nbconvert_exporter": "",
   "pygments_lexer": "",
   "version": "go1.11.1"
  }
 },
 "nbformat": 4,
 "nbformat_minor": 2
}
